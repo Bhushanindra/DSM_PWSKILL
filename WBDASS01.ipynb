{
  "nbformat": 4,
  "nbformat_minor": 0,
  "metadata": {
    "colab": {
      "provenance": [],
      "authorship_tag": "ABX9TyMdqWXuOoqccM9/tfGaJz5U",
      "include_colab_link": true
    },
    "kernelspec": {
      "name": "python3",
      "display_name": "Python 3"
    },
    "language_info": {
      "name": "python"
    }
  },
  "cells": [
    {
      "cell_type": "markdown",
      "metadata": {
        "id": "view-in-github",
        "colab_type": "text"
      },
      "source": [
        "<a href=\"https://colab.research.google.com/github/Bhushanindra/DSM_PWSKILL/blob/main/WBDASS01.ipynb\" target=\"_parent\"><img src=\"https://colab.research.google.com/assets/colab-badge.svg\" alt=\"Open In Colab\"/></a>"
      ]
    },
    {
      "cell_type": "markdown",
      "source": [
        "**Question 1**\n",
        "\n",
        "   !DOCTYPE html is it a tag of html? If not, what is it and why do we use it?"
      ],
      "metadata": {
        "id": "QYUNwPJ99iSN"
      }
    },
    {
      "cell_type": "markdown",
      "source": [
        "**Answer:**-<!DOCTYPE html> it is not a tag in HTML. it is used to inform the browser about the version of HTML used in the document."
      ],
      "metadata": {
        "id": "dA2opaE79ujy"
      }
    },
    {
      "cell_type": "markdown",
      "source": [
        "**Question 2**\n",
        "\n",
        "Explain Semantic tags in html? And why do we need it?"
      ],
      "metadata": {
        "id": "8JPB6W2a-NCd"
      }
    },
    {
      "cell_type": "markdown",
      "source": [
        "**Answer:-** Semantic tags in HTML are elements that carry meaning the purpose of the content they enclose.t uses the relations of linguistic forms to non-linguistic concepts and mental representations to explain how sentences are understood by native speakers."
      ],
      "metadata": {
        "id": "9vAmcllk-Sc1"
      }
    },
    {
      "cell_type": "markdown",
      "source": [
        "**Question** **3**\n",
        "\n",
        "Differentiate between HTML Tags and Elements?"
      ],
      "metadata": {
        "id": "PyvcrJIB_RKz"
      }
    },
    {
      "cell_type": "markdown",
      "source": [
        "**Answer:-**  HTML Tags\n",
        "\n",
        "           i.HTML tags are used to hold the HTML element.\n",
        "           ii.HTML tag starts with < and ends with >\n",
        "           iii.HTML tags are almost like keywords where every single tag has unique meaning.\n",
        "\n",
        "HTML Elements\n",
        "\n",
        "    i.HTML elements specifies the general content.\n",
        "    ii.HTML element holds the content.\n",
        "    iii.Whatever written within a HTML tag are HTML elements."
      ],
      "metadata": {
        "id": "4mG2O_Y1_0PK"
      }
    },
    {
      "cell_type": "markdown",
      "source": [
        "Question 4\n",
        "\n",
        "What are some of the advantages of HTML5 over its previous versions?"
      ],
      "metadata": {
        "id": "4T9THkRBAydj"
      }
    },
    {
      "cell_type": "markdown",
      "source": [
        "Answer:- following are some advantages of HTML5 over its prevoius versions:-\n",
        "\n",
        "    i.Consistency\n",
        "    ii.Multimedia support\n",
        "    iii.Cross-platform support\n",
        "    iv.Improved security features"
      ],
      "metadata": {
        "id": "lseIjSGPBiyO"
      }
    },
    {
      "cell_type": "markdown",
      "source": [
        "Question 5\n",
        "\n",
        "Create a simple Music player using html only"
      ],
      "metadata": {
        "id": "4DUXy57ZCfGT"
      }
    },
    {
      "cell_type": "code",
      "source": [
        "<!DOCTYPE html>\n",
        "<html>\n",
        "<head>\n",
        "  <title>Simple Music Player</title>\n",
        "</head>\n",
        "<body>\n",
        "  <h1>Simple Music Player</h1>\n",
        "  <audio controls>\n",
        "    <source src=\"path_to_audio_file.mp3\" type=\"audio/mpeg\">\n",
        "  </audio>\n",
        "</body>\n",
        "</html>\n"
      ],
      "metadata": {
        "id": "TLb5nQXhEKqD"
      },
      "execution_count": null,
      "outputs": []
    },
    {
      "cell_type": "markdown",
      "source": [
        "Question 7\n",
        "\n",
        "What is the difference between figure tag and img tag?"
      ],
      "metadata": {
        "id": "L-yeSzBuEOvN"
      }
    },
    {
      "cell_type": "markdown",
      "source": [
        "Answer:- figure Tag\n",
        "\n",
        "    i.<figure> tag is a container tag.\n",
        "    ii.This tag is inline element.\n",
        "    iii.The figure tag contains default alignment and styling.\n",
        "    iv.It makes it easy for the machine to understand the code. Easy to get on search engines.\n",
        "\n",
        "  img tag\n",
        "\n",
        "    i.<img> tag is a void tag.\n",
        "    ii.The image tag does not contain any default alignment and styling.\n",
        "    iii.It is difficult for machines to understand.\n",
        "    iv.The HTML <img> tag is used for embedding images into an HTML document."
      ],
      "metadata": {
        "id": "4AR3mn2REesz"
      }
    },
    {
      "cell_type": "markdown",
      "source": [
        "Question 8\n",
        "\n",
        "What’s the difference between html tag and attribute and give example of some global attributes?"
      ],
      "metadata": {
        "id": "urTQOlVFGOEs"
      }
    },
    {
      "cell_type": "markdown",
      "source": [
        "Answer:- HTML Tag\n",
        "\n",
        "    i.HTML tags are generally the starting and ending parts of the HTML code.\n",
        "    ii.HTML tags define a way to represent and hold HTML elements in the program.\n",
        "    iii.HTML tags are like keywords where every single tag has a unique meaning.\n",
        "\n",
        "HTML Attribute\n",
        "\n",
        "    i.HTML attributes are used to define the character of the HTML elements.\n",
        "    ii.HTML attributes are generally used to provide additional styling to the element.\n",
        "    iii.HTML attributes are always placed in the opening tag of an element."
      ],
      "metadata": {
        "id": "tocVUt5hGb83"
      }
    }
  ]
}